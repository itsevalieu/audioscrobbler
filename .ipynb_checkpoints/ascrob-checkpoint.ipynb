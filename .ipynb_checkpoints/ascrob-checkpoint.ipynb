{
 "cells": [
  {
   "cell_type": "code",
   "execution_count": null,
   "metadata": {
    "collapsed": false
   },
   "outputs": [
    {
     "name": "stdout",
     "output_type": "stream",
     "text": [
      "Searching user's playlist...\n",
      "Please be patient! I'm slow ):\n"
     ]
    }
   ],
   "source": [
    "import csv\n",
    "\n",
    "user_playlist = []\n",
    "def printListenersTimesPlayed(userID):\n",
    "    print(\"Searching user's playlist...\")\n",
    "    print(\"Please be patient! I'm slow ):\")\n",
    "    user_playlist = getUserPlaylist(userID)\n",
    "    for i in user_playlist:\n",
    "        i[0] = findGoodId(i[0])\n",
    "        i[0] = findArtistName(i[0])\n",
    "        print(i[0], \"-\", i[1])\n",
    "\n",
    "def getUserPlaylist(userID):\n",
    "    with open('user_artist_data.txt', 'r') as file1:\n",
    "        csv_reader = csv.reader(file1, delimiter=' ')\n",
    "        for row in csv_reader:\n",
    "            if row[0] == str(userID):\n",
    "                user_playlist.append([int(row[1]), int(row[2])])\n",
    "    return user_playlist\n",
    "\n",
    "def findArtistName(artistID):\n",
    "    with open('artist_data.txt', 'r') as file2:\n",
    "        artist_reader = csv.reader(file2, delimiter='\\t')\n",
    "        for line in artist_reader:\n",
    "            for column in line:\n",
    "                if column == str(artistID):\n",
    "                    return line[1]\n",
    "\n",
    "def findGoodId(badID):\n",
    "    with open('artist_alias.txt', 'r') as file3:\n",
    "        reader = csv.reader(file3, delimiter='\\t')\n",
    "        for record in reader:\n",
    "            if record[0] != str(badID):\n",
    "                goodID = badID\n",
    "                return goodID\n",
    "            # elif not working properly, why?\n",
    "            elif record[0] == str(badID):\n",
    "                fixedID = int(record[1])\n",
    "                return fixedID\n",
    "\n",
    "printListenersTimesPlayed(1000002)\n"
   ]
  },
  {
   "cell_type": "code",
   "execution_count": null,
   "metadata": {
    "collapsed": true
   },
   "outputs": [],
   "source": []
  }
 ],
 "metadata": {
  "kernelspec": {
   "display_name": "Python 3",
   "language": "python",
   "name": "python3"
  },
  "language_info": {
   "codemirror_mode": {
    "name": "ipython",
    "version": 3
   },
   "file_extension": ".py",
   "mimetype": "text/x-python",
   "name": "python",
   "nbconvert_exporter": "python",
   "pygments_lexer": "ipython3",
   "version": "3.6.0"
  }
 },
 "nbformat": 4,
 "nbformat_minor": 2
}
